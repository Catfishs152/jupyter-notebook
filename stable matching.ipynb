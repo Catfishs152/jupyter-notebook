{
 "cells": [
  {
   "cell_type": "markdown",
   "id": "6a2b9dbe",
   "metadata": {},
   "source": [
    "首先写出：A,B,C,D,E,五所医院对与学生喜好的排名："
   ]
  },
  {
   "cell_type": "code",
   "execution_count": null,
   "id": "9fef127f",
   "metadata": {},
   "outputs": [],
   "source": [
    "hospitalprefers = {'a':['w','v','y','z','x'],\n",
    "'b':['y','w','v','x','z'],\n",
    "'c':['w','z','x','y','v'],\n",
    "'d':['v','y','x','w','z'],\n",
    "'e':['w','y','v','z','x']}"
   ]
  },
  {
   "cell_type": "code",
   "execution_count": null,
   "id": "f06c8226",
   "metadata": {},
   "outputs": [],
   "source": [
    "studentprefers = {'v':['e','a','b','d','c'],\n",
    "'w':['c','b','d','a','e'],\n",
    "'x':['b','c','d','e','a'],\n",
    "'y':['a','e','d','c','b'],\n",
    "'z':['d','b','e','c','a']}"
   ]
  },
  {
   "cell_type": "code",
   "execution_count": null,
   "id": "ca1e5948",
   "metadata": {},
   "outputs": [],
   "source": [
    "hospital=sorted(hospitalprefers.keys())\n",
    "student=sorted(studentprefers.keys())"
   ]
  },
  {
   "cell_type": "code",
   "execution_count": null,
   "id": "accdc01c",
   "metadata": {},
   "outputs": [],
   "source": [
    "def match():\n",
    "    hospitalfree = hospital[:]\n",
    "    used = {}\n",
    "    while hospitalfree:\n",
    "        hospital = hospitalfree.pop(0)\n",
    "        hospitallist = hospitalprefers[hospital]\n",
    "        student = hospitallist.pop(0)\n",
    "        diduse = used.get(student)\n",
    "        if not diduse:\n",
    "            used[student] = hospital\n",
    "            print(\"%s and %s\" % (hospital,student))\n",
    "        else:\n",
    "            studentlist = studentprefers[student]\n",
    "            if studentlist.index(diduse) > hospitallist.index(hospital):\n",
    "                used[student] = hospital\n",
    "                print(\"%s dumped %s for %s\" % (student,diduse,hospital))\n",
    "                if hospitalprefers[diduse]:\n",
    "                    hospitalfree.append(diduse)\n",
    "            else:\n",
    "                if hospitallist:\n",
    "                    hospitalfree.append(hospital)\n",
    "    return used\n"
   ]
  },
  {
   "cell_type": "code",
   "execution_count": null,
   "id": "885604b4",
   "metadata": {},
   "outputs": [],
   "source": [
    "used=match()\n",
    "print used"
   ]
  },
  {
   "cell_type": "code",
   "execution_count": null,
   "id": "60ed19b2",
   "metadata": {},
   "outputs": [],
   "source": []
  }
 ],
 "metadata": {
  "kernelspec": {
   "display_name": "Python 3",
   "language": "python",
   "name": "python3"
  },
  "language_info": {
   "codemirror_mode": {
    "name": "ipython",
    "version": 3
   },
   "file_extension": ".py",
   "mimetype": "text/x-python",
   "name": "python",
   "nbconvert_exporter": "python",
   "pygments_lexer": "ipython3",
   "version": "3.8.8"
  }
 },
 "nbformat": 4,
 "nbformat_minor": 5
}
