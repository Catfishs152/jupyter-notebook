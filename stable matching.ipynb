{
 "cells": [
  {
   "cell_type": "markdown",
   "id": "6a2b9dbe",
   "metadata": {},
   "source": [
    "首先写出：A,B,C,D,E,五所医院对与学生喜好的排名："
   ]
  },
  {
   "cell_type": "code",
   "execution_count": 54,
   "id": "9fef127f",
   "metadata": {},
   "outputs": [],
   "source": [
    "hospitalprefers = {'a':['w','v','y','z','x'],\n",
    "'b':['y','w','v','x','z'],\n",
    "'c':['w','z','x','y','v'],\n",
    "'d':['v','y','x','w','z'],\n",
    "'e':['w','y','v','z','x']}"
   ]
  },
  {
   "cell_type": "markdown",
   "id": "b775ff40",
   "metadata": {},
   "source": [
    "然后写出：V,W,X,Y,Z,五个学生对与医院的喜好排名："
   ]
  },
  {
   "cell_type": "code",
   "execution_count": 55,
   "id": "f06c8226",
   "metadata": {},
   "outputs": [],
   "source": [
    "studentprefers = {'v':['e','a','b','d','c'],\n",
    "'w':['c','b','d','a','e'],\n",
    "'x':['b','c','d','e','a'],\n",
    "'y':['a','e','d','c','b'],\n",
    "'z':['d','b','e','c','a']}"
   ]
  },
  {
   "cell_type": "markdown",
   "id": "a18524b6",
   "metadata": {},
   "source": [
    "使用sorted返回一个排序的新列表："
   ]
  },
  {
   "cell_type": "code",
   "execution_count": 56,
   "id": "ca1e5948",
   "metadata": {},
   "outputs": [],
   "source": [
    "Hospital=sorted(hospitalprefers.keys()) # .keys（）用于返回字典中的键\n",
    "Student=sorted(studentprefers.keys())"
   ]
  },
  {
   "cell_type": "code",
   "execution_count": 57,
   "id": "accdc01c",
   "metadata": {},
   "outputs": [],
   "source": [
    "def match():\n",
    "    hospitalfree = Hospital[:] # 未被选择的医院\n",
    "    choice = {}\n",
    "    while hospitalfree: # 还有未被选择的医院\n",
    "        hospital = hospitalfree.pop(0) \n",
    "        hospitallist = hospitalprefers[hospital]\n",
    "        student = hospitallist.pop(0)\n",
    "        prefer = choice.get(student) # .get()获取字典的值\n",
    "        if not prefer: \n",
    "            # 这个学生未被选择\n",
    "            choice[student] = hospital\n",
    "            print(\"%s and %s\" % (hospital,student))\n",
    "        else:\n",
    "            studentlist = studentprefers[student]\n",
    "            if studentlist.index(prefer) > studentlist.index(hospital): # .index() 用于从列表中找出某个值第一个匹配项的索引位置\n",
    "                # 这个学生已经选择过了，但又有他更想去的可以去\n",
    "                choice[student] = hospital\n",
    "                print(\"%s dumped %s for %s\" % (student,prefer,hospital))\n",
    "                if hospitalprefers[prefer]:\n",
    "                    hospitalfree.append(prefer)\n",
    "            else:\n",
    "                # 这个学生已经选择过了，并且没有他更想去的\n",
    "                if hospitallist:\n",
    "                    hospitalfree.append(hospital)\n",
    "    return choice"
   ]
  },
  {
   "cell_type": "code",
   "execution_count": 58,
   "id": "885604b4",
   "metadata": {},
   "outputs": [
    {
     "name": "stdout",
     "output_type": "stream",
     "text": [
      "a and w\n",
      "b and y\n",
      "w dumped a for c\n",
      "d and v\n",
      "v dumped d for a\n",
      "y dumped b for e\n",
      "d and x\n",
      "x dumped d for b\n",
      "d and z\n",
      "{'w': 'c', 'y': 'e', 'v': 'a', 'x': 'b', 'z': 'd'}\n"
     ]
    }
   ],
   "source": [
    "choice=match()\n",
    "print(choice)"
   ]
  },
  {
   "cell_type": "code",
   "execution_count": null,
   "id": "cdbf540f",
   "metadata": {},
   "outputs": [],
   "source": []
  }
 ],
 "metadata": {
  "kernelspec": {
   "display_name": "Python 3",
   "language": "python",
   "name": "python3"
  },
  "language_info": {
   "codemirror_mode": {
    "name": "ipython",
    "version": 3
   },
   "file_extension": ".py",
   "mimetype": "text/x-python",
   "name": "python",
   "nbconvert_exporter": "python",
   "pygments_lexer": "ipython3",
   "version": "3.8.8"
  }
 },
 "nbformat": 4,
 "nbformat_minor": 5
}
